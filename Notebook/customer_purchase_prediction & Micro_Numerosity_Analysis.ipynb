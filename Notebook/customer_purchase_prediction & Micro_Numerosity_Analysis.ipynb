{
 "cells": [
  {
   "cell_type": "markdown",
   "id": "a69e3a1f-0fc8-49e3-aeb1-bf5dd37db394",
   "metadata": {},
   "source": [
    "# customer_purchase_prediction & Micro_Numerosity_Analysis \n",
    "\n",
    "This project aims to forecast customer purchasing behavior by analyzing demographic and review-related data, with an emphasis on Micro-Numerosity analysis to evaluate the effects of small-scale numerical factors on purchasing predictions."
   ]
  },
  {
   "cell_type": "markdown",
   "id": "e7f0c3eb-3fd2-4997-8546-7a49afd7f313",
   "metadata": {},
   "source": [
    "# Abstract:\n",
    "This project uses a Random Forest Classifier to predict customer purchase behavior by analyzing demographic and review data. It explores how Micro-Numerosity influences prediction accuracy, with model performance evaluated through metrics like accuracy, confusion matrix, ROC curve, and AUC. Insights from feature importance and model confidence are provided, with plans for future improvements through hyperparameter tuning and feature engineering."
   ]
  },
  {
   "cell_type": "markdown",
   "id": "2412efff-0658-4955-b2e4-a19e605ce18f",
   "metadata": {},
   "source": [
    "# Problem Statement:\n",
    "The project aims to predict customer purchasing behavior using demographic and review-related data, focusing on the impact of small-scale numerical features (Micro-Numerosity) on prediction accuracy."
   ]
  },
  {
   "cell_type": "markdown",
   "id": "ab979fd0-09ad-474f-8e97-5e47bffc5b17",
   "metadata": {},
   "source": [
    "# Dataset overview:\n",
    "    Based on the dataset snippet you've provided, it appears that you have the following columns:\n",
    "    \n",
    "    1.Customer ID: A unique identifier for each customer.\n",
    "    \n",
    "    2.Age: The age of the customer.\n",
    "    \n",
    "    3.Gender: The gender of the customer.\n",
    "    \n",
    "    4.Education: The highest level of education attained by the customer (e.g., School, UG, PG).\n",
    "    \n",
    "    5.Review: A categorical rating of the customer’s review (e.g., Average, Poor, Good).\n",
    "    \n",
    "    6.Purchased: Whether the customer made a purchase (Yes/No).\n",
    "    \n",
    "    This dataset can be used to predict whether a customer will make a purchase based on demographic and review data, with the target variable being the Purchased column. You would need to encode categorical features such as Gender, Education, and Review before applying machine learning algorithms.\n"
   ]
  },
  {
   "cell_type": "markdown",
   "id": "f135897e-26ed-40a7-8653-9cbff0d1da6d",
   "metadata": {},
   "source": [
    "# *Process Overview*:\n",
    "\n",
    "1. **Data Import & Exploration**\n",
    "   - Imported relevant libraries and loaded the customer data.\n",
    "   - Conducted a preliminary exploration to familiarize with data structure and characteristics.\n",
    "\n",
    "2. **Data Preprocessing**\n",
    "   - Defined target (`y`) and feature variables (`X`).\n",
    "   - Encoded categorical variables to prepare for modeling.\n",
    "\n",
    "3. **Train-Test Split**\n",
    "   - Divided the dataset into training (80%) and testing (20%) subsets.\n",
    "\n",
    "4. **Model Training & Selection**\n",
    "   - Selected a Random Forest Classifier for the prediction task.\n",
    "   - Trained the model using the training data subset.\n",
    "\n",
    "5. **Model Evaluation**\n",
    "   - Predicted outcomes on the test set with the trained model.\n",
    "   - Assessed model performance through a confusion matrix, accuracy score, and classification report.\n",
    "\n",
    "6. **Feature Importance Analysis**\n",
    "   - Visualized feature importance using a bar chart.\n",
    "   - Identified the primary factors affecting purchase predictions.\n",
    "\n",
    "7. **Confusion Matrix Heatmap**\n",
    "   - Generated a heatmap of the confusion matrix to illustrate model performance.\n",
    "   - Analyzed instances of true/false positives and negatives.\n",
    "\n",
    "8. **ROC Curve & AUC**\n",
    "   - Computed and plotted the ROC curve and AUC to evaluate model discriminatory ability.\n",
    "   - Examined the balance between true positive and false positive rates.\n",
    "\n",
    "9. **Probability Distribution Analysis**\n",
    "   - Reviewed the distribution of probabilities for the positive ('Yes') class predictions.\n",
    "   - Assessed model confidence in its purchase predictions."
   ]
  },
  {
   "cell_type": "markdown",
   "id": "481c1db4-acde-4055-bd72-bf102ea0606a",
   "metadata": {},
   "source": [
    "#### *Findings & Insights*\n",
    "\n",
    "- Achieved a test set accuracy of 60%.\n",
    "- Feature importance analysis highlighted key influencers of customer purchasing.\n",
    "- Confusion matrix heatmap provided detailed insight into model categorization performance.\n",
    "- ROC curve and AUC measured the model's discriminatory strength.\n",
    "- Predicted probability distribution revealed model confidence levels in purchase prediction.\n",
    "\n",
    "#### *Next Steps*\n",
    "\n",
    "- Investigate hyperparameter tuning for improved model performance.\n",
    "- Consider additional features or feature engineering to enhance predictive accuracy.\n",
    "- Iterate on the model and analysis to further improve outcomes."
   ]
  },
  {
   "cell_type": "markdown",
   "id": "25d4f0b3-50a1-424e-bd65-10bddd96f5cc",
   "metadata": {},
   "source": [
    "\n",
    "### **1. Data Import and Exploration:**\n",
    "   - **Importing Necessary Libraries:** Imported essential libraries for data analysis and visualization, including NumPy, Pandas, Matplotlib, Seaborn, and scikit-learn.\n",
    "   - **Import Data:** Loaded the customer purchase dataset from the provided GitHub link.\n",
    "   - **Data Exploration:** Examined the dataset's structure and features using head(), info(), and describe(). Checked column names for reference."
   ]
  },
  {
   "cell_type": "code",
   "execution_count": 3,
   "id": "6c82b04e-315f-4218-b78f-5b9e4adfdaed",
   "metadata": {},
   "outputs": [],
   "source": [
    "import numpy as np\n",
    "import pandas as pd\n",
    "import matplotlib.pyplot as plt\n",
    "import seaborn as sns\n",
    "from sklearn.model_selection import train_test_split\n",
    "from sklearn.preprocessing import StandardScaler\n",
    "from sklearn.model_selection import cross_val_score\n",
    "from sklearn.metrics import accuracy_score, precision_score, recall_score, f1_score\n",
    "from sklearn.linear_model import LogisticRegression"
   ]
  },
  {
   "cell_type": "code",
   "execution_count": 4,
   "id": "b1a42b57-e261-4c2f-b00c-e9e9b017d13f",
   "metadata": {},
   "outputs": [],
   "source": [
    "purchase = pd.read_csv ('customer_purchase.csv')"
   ]
  },
  {
   "cell_type": "code",
   "execution_count": 5,
   "id": "05a5c3c7-b32f-4950-92ad-8c2115a53338",
   "metadata": {},
   "outputs": [
    {
     "data": {
      "text/html": [
       "<div>\n",
       "<style scoped>\n",
       "    .dataframe tbody tr th:only-of-type {\n",
       "        vertical-align: middle;\n",
       "    }\n",
       "\n",
       "    .dataframe tbody tr th {\n",
       "        vertical-align: top;\n",
       "    }\n",
       "\n",
       "    .dataframe thead th {\n",
       "        text-align: right;\n",
       "    }\n",
       "</style>\n",
       "<table border=\"1\" class=\"dataframe\">\n",
       "  <thead>\n",
       "    <tr style=\"text-align: right;\">\n",
       "      <th></th>\n",
       "      <th>Customer ID</th>\n",
       "      <th>Age</th>\n",
       "      <th>Gender</th>\n",
       "      <th>Education</th>\n",
       "      <th>Review</th>\n",
       "      <th>Purchased</th>\n",
       "    </tr>\n",
       "  </thead>\n",
       "  <tbody>\n",
       "    <tr>\n",
       "      <th>0</th>\n",
       "      <td>1021</td>\n",
       "      <td>30</td>\n",
       "      <td>Female</td>\n",
       "      <td>School</td>\n",
       "      <td>Average</td>\n",
       "      <td>No</td>\n",
       "    </tr>\n",
       "    <tr>\n",
       "      <th>1</th>\n",
       "      <td>1022</td>\n",
       "      <td>68</td>\n",
       "      <td>Female</td>\n",
       "      <td>UG</td>\n",
       "      <td>Poor</td>\n",
       "      <td>No</td>\n",
       "    </tr>\n",
       "    <tr>\n",
       "      <th>2</th>\n",
       "      <td>1023</td>\n",
       "      <td>70</td>\n",
       "      <td>Female</td>\n",
       "      <td>PG</td>\n",
       "      <td>Good</td>\n",
       "      <td>No</td>\n",
       "    </tr>\n",
       "    <tr>\n",
       "      <th>3</th>\n",
       "      <td>1024</td>\n",
       "      <td>72</td>\n",
       "      <td>Female</td>\n",
       "      <td>PG</td>\n",
       "      <td>Good</td>\n",
       "      <td>No</td>\n",
       "    </tr>\n",
       "    <tr>\n",
       "      <th>4</th>\n",
       "      <td>1025</td>\n",
       "      <td>16</td>\n",
       "      <td>Female</td>\n",
       "      <td>UG</td>\n",
       "      <td>Average</td>\n",
       "      <td>No</td>\n",
       "    </tr>\n",
       "  </tbody>\n",
       "</table>\n",
       "</div>"
      ],
      "text/plain": [
       "   Customer ID  Age  Gender Education   Review Purchased\n",
       "0         1021   30  Female    School  Average        No\n",
       "1         1022   68  Female        UG     Poor        No\n",
       "2         1023   70  Female        PG     Good        No\n",
       "3         1024   72  Female        PG     Good        No\n",
       "4         1025   16  Female        UG  Average        No"
      ]
     },
     "execution_count": 5,
     "metadata": {},
     "output_type": "execute_result"
    }
   ],
   "source": [
    "purchase.head()"
   ]
  },
  {
   "cell_type": "code",
   "execution_count": 6,
   "id": "ad559ff5-a508-43e5-b3cb-843b11e691cc",
   "metadata": {},
   "outputs": [
    {
     "name": "stdout",
     "output_type": "stream",
     "text": [
      "<class 'pandas.core.frame.DataFrame'>\n",
      "RangeIndex: 50 entries, 0 to 49\n",
      "Data columns (total 6 columns):\n",
      " #   Column       Non-Null Count  Dtype \n",
      "---  ------       --------------  ----- \n",
      " 0   Customer ID  50 non-null     int64 \n",
      " 1   Age          50 non-null     int64 \n",
      " 2   Gender       50 non-null     object\n",
      " 3   Education    50 non-null     object\n",
      " 4   Review       50 non-null     object\n",
      " 5   Purchased    50 non-null     object\n",
      "dtypes: int64(2), object(4)\n",
      "memory usage: 2.5+ KB\n"
     ]
    }
   ],
   "source": [
    "purchase.info()"
   ]
  },
  {
   "cell_type": "code",
   "execution_count": 7,
   "id": "73456658-5d6f-48e5-9ac8-ad2d3fcbc53c",
   "metadata": {},
   "outputs": [
    {
     "data": {
      "text/html": [
       "<div>\n",
       "<style scoped>\n",
       "    .dataframe tbody tr th:only-of-type {\n",
       "        vertical-align: middle;\n",
       "    }\n",
       "\n",
       "    .dataframe tbody tr th {\n",
       "        vertical-align: top;\n",
       "    }\n",
       "\n",
       "    .dataframe thead th {\n",
       "        text-align: right;\n",
       "    }\n",
       "</style>\n",
       "<table border=\"1\" class=\"dataframe\">\n",
       "  <thead>\n",
       "    <tr style=\"text-align: right;\">\n",
       "      <th></th>\n",
       "      <th>Customer ID</th>\n",
       "      <th>Age</th>\n",
       "      <th>Gender</th>\n",
       "      <th>Education</th>\n",
       "      <th>Review</th>\n",
       "      <th>Purchased</th>\n",
       "    </tr>\n",
       "  </thead>\n",
       "  <tbody>\n",
       "    <tr>\n",
       "      <th>count</th>\n",
       "      <td>50.00000</td>\n",
       "      <td>50.000000</td>\n",
       "      <td>50</td>\n",
       "      <td>50</td>\n",
       "      <td>50</td>\n",
       "      <td>50</td>\n",
       "    </tr>\n",
       "    <tr>\n",
       "      <th>unique</th>\n",
       "      <td>NaN</td>\n",
       "      <td>NaN</td>\n",
       "      <td>2</td>\n",
       "      <td>3</td>\n",
       "      <td>3</td>\n",
       "      <td>2</td>\n",
       "    </tr>\n",
       "    <tr>\n",
       "      <th>top</th>\n",
       "      <td>NaN</td>\n",
       "      <td>NaN</td>\n",
       "      <td>Female</td>\n",
       "      <td>PG</td>\n",
       "      <td>Poor</td>\n",
       "      <td>No</td>\n",
       "    </tr>\n",
       "    <tr>\n",
       "      <th>freq</th>\n",
       "      <td>NaN</td>\n",
       "      <td>NaN</td>\n",
       "      <td>29</td>\n",
       "      <td>18</td>\n",
       "      <td>18</td>\n",
       "      <td>26</td>\n",
       "    </tr>\n",
       "    <tr>\n",
       "      <th>mean</th>\n",
       "      <td>1045.50000</td>\n",
       "      <td>54.160000</td>\n",
       "      <td>NaN</td>\n",
       "      <td>NaN</td>\n",
       "      <td>NaN</td>\n",
       "      <td>NaN</td>\n",
       "    </tr>\n",
       "    <tr>\n",
       "      <th>std</th>\n",
       "      <td>14.57738</td>\n",
       "      <td>25.658161</td>\n",
       "      <td>NaN</td>\n",
       "      <td>NaN</td>\n",
       "      <td>NaN</td>\n",
       "      <td>NaN</td>\n",
       "    </tr>\n",
       "    <tr>\n",
       "      <th>min</th>\n",
       "      <td>1021.00000</td>\n",
       "      <td>15.000000</td>\n",
       "      <td>NaN</td>\n",
       "      <td>NaN</td>\n",
       "      <td>NaN</td>\n",
       "      <td>NaN</td>\n",
       "    </tr>\n",
       "    <tr>\n",
       "      <th>25%</th>\n",
       "      <td>1033.25000</td>\n",
       "      <td>30.250000</td>\n",
       "      <td>NaN</td>\n",
       "      <td>NaN</td>\n",
       "      <td>NaN</td>\n",
       "      <td>NaN</td>\n",
       "    </tr>\n",
       "    <tr>\n",
       "      <th>50%</th>\n",
       "      <td>1045.50000</td>\n",
       "      <td>57.000000</td>\n",
       "      <td>NaN</td>\n",
       "      <td>NaN</td>\n",
       "      <td>NaN</td>\n",
       "      <td>NaN</td>\n",
       "    </tr>\n",
       "    <tr>\n",
       "      <th>75%</th>\n",
       "      <td>1057.75000</td>\n",
       "      <td>74.000000</td>\n",
       "      <td>NaN</td>\n",
       "      <td>NaN</td>\n",
       "      <td>NaN</td>\n",
       "      <td>NaN</td>\n",
       "    </tr>\n",
       "    <tr>\n",
       "      <th>max</th>\n",
       "      <td>1070.00000</td>\n",
       "      <td>98.000000</td>\n",
       "      <td>NaN</td>\n",
       "      <td>NaN</td>\n",
       "      <td>NaN</td>\n",
       "      <td>NaN</td>\n",
       "    </tr>\n",
       "  </tbody>\n",
       "</table>\n",
       "</div>"
      ],
      "text/plain": [
       "        Customer ID        Age  Gender Education Review Purchased\n",
       "count      50.00000  50.000000      50        50     50        50\n",
       "unique          NaN        NaN       2         3      3         2\n",
       "top             NaN        NaN  Female        PG   Poor        No\n",
       "freq            NaN        NaN      29        18     18        26\n",
       "mean     1045.50000  54.160000     NaN       NaN    NaN       NaN\n",
       "std        14.57738  25.658161     NaN       NaN    NaN       NaN\n",
       "min      1021.00000  15.000000     NaN       NaN    NaN       NaN\n",
       "25%      1033.25000  30.250000     NaN       NaN    NaN       NaN\n",
       "50%      1045.50000  57.000000     NaN       NaN    NaN       NaN\n",
       "75%      1057.75000  74.000000     NaN       NaN    NaN       NaN\n",
       "max      1070.00000  98.000000     NaN       NaN    NaN       NaN"
      ]
     },
     "execution_count": 7,
     "metadata": {},
     "output_type": "execute_result"
    }
   ],
   "source": [
    "purchase.describe(include='all')"
   ]
  },
  {
   "cell_type": "code",
   "execution_count": 8,
   "id": "c4481747-8abc-4f4e-803d-a19b7af4b011",
   "metadata": {},
   "outputs": [
    {
     "data": {
      "text/plain": [
       "<Axes: ylabel='count'>"
      ]
     },
     "execution_count": 8,
     "metadata": {},
     "output_type": "execute_result"
    },
    {
     "data": {
      "image/png": "[encoded data removed]",
      "text/plain": [
       "<Figure size 640x480 with 1 Axes>"
      ]
     },
     "metadata": {},
     "output_type": "display_data"
    }
   ],
   "source": [
    "sns.countplot(data=purchase)"
   ]
  },
  {
   "cell_type": "code",
   "execution_count": 85,
   "id": "5fe9fee0-0e92-412a-bbac-4595f134996f",
   "metadata": {},
   "outputs": [
    {
     "data": {
      "text/plain": [
       "<seaborn.axisgrid.PairGrid at 0x173576966c0>"
      ]
     },
     "execution_count": 85,
     "metadata": {},
     "output_type": "execute_result"
    },
    {
     "data": {
      "image/png": "[encoded data removed]",
      "text/plain": [
       "<Figure size 607.125x500 with 6 Axes>"
      ]
     },
     "metadata": {},
     "output_type": "display_data"
    }
   ],
   "source": [
    "sns.pairplot(data=purchase,palette='Set2',hue='Review')"
   ]
  },
  {
   "cell_type": "markdown",
   "id": "79f845f2-4e9a-4ebf-879c-045accc95c6e",
   "metadata": {},
   "source": [
    "### **2. Data Preprocessing:**\n",
    "   - **Define Target and Feature Variables:** Set up the target variable (`y`) as 'Purchased' and feature variables (`X`) by excluding 'Purchased' and 'Customer ID'.\n",
    "   - **Encoding Categorical Variables:** Converted categorical variables ('Review', 'Education', 'Gender') into numerical representations for modeling."
   ]
  },
  {
   "cell_type": "code",
   "execution_count": 86,
   "id": "efcf2d2d-8ec1-4eb4-88f6-afa72fc81e1d",
   "metadata": {},
   "outputs": [
    {
     "data": {
      "text/plain": [
       "Index(['Customer ID', 'Age', 'Gender', 'Education', 'Review', 'Purchased'], dtype='object')"
      ]
     },
     "execution_count": 86,
     "metadata": {},
     "output_type": "execute_result"
    }
   ],
   "source": [
    "purchase.columns"
   ]
  },
  {
   "cell_type": "code",
   "execution_count": 87,
   "id": "f4065ac0-5759-4dbb-9770-92351e4528d5",
   "metadata": {},
   "outputs": [],
   "source": [
    "y = purchase['Purchased']"
   ]
  },
  {
   "cell_type": "code",
   "execution_count": 88,
   "id": "f24beed3-f5c4-460d-a00a-296392fe5dc4",
   "metadata": {},
   "outputs": [],
   "source": [
    "X = purchase.drop(['Purchased','Customer ID'],axis=1)"
   ]
  },
  {
   "cell_type": "code",
   "execution_count": 89,
   "id": "9e28c9ef-cd68-4429-bb9a-ffb2f0369755",
   "metadata": {},
   "outputs": [],
   "source": [
    "# Opt-in to the future behavior\n",
    "pd.set_option('future.no_silent_downcasting', True)\n",
    "\n",
    "# Replace the values\n",
    "X.replace({'Review': {'Poor': 0, 'Average': 1, 'Good': 2}}, inplace=True)\n",
    "X.replace({'Education': {'School': 0, 'UG': 1, 'PG': 2}}, inplace=True)\n",
    "X.replace({'Gender': {'Male': 0, 'Female': 1}}, inplace=True)"
   ]
  },
  {
   "cell_type": "code",
   "execution_count": 90,
   "id": "d9d1bc40-623b-478c-84d2-ea1209172deb",
   "metadata": {},
   "outputs": [
    {
     "data": {
      "text/html": [
       "<div>\n",
       "<style scoped>\n",
       "    .dataframe tbody tr th:only-of-type {\n",
       "        vertical-align: middle;\n",
       "    }\n",
       "\n",
       "    .dataframe tbody tr th {\n",
       "        vertical-align: top;\n",
       "    }\n",
       "\n",
       "    .dataframe thead th {\n",
       "        text-align: right;\n",
       "    }\n",
       "</style>\n",
       "<table border=\"1\" class=\"dataframe\">\n",
       "  <thead>\n",
       "    <tr style=\"text-align: right;\">\n",
       "      <th></th>\n",
       "      <th>Age</th>\n",
       "      <th>Gender</th>\n",
       "      <th>Education</th>\n",
       "      <th>Review</th>\n",
       "    </tr>\n",
       "  </thead>\n",
       "  <tbody>\n",
       "    <tr>\n",
       "      <th>0</th>\n",
       "      <td>30</td>\n",
       "      <td>1</td>\n",
       "      <td>0</td>\n",
       "      <td>1</td>\n",
       "    </tr>\n",
       "    <tr>\n",
       "      <th>1</th>\n",
       "      <td>68</td>\n",
       "      <td>1</td>\n",
       "      <td>1</td>\n",
       "      <td>0</td>\n",
       "    </tr>\n",
       "    <tr>\n",
       "      <th>2</th>\n",
       "      <td>70</td>\n",
       "      <td>1</td>\n",
       "      <td>2</td>\n",
       "      <td>2</td>\n",
       "    </tr>\n",
       "    <tr>\n",
       "      <th>3</th>\n",
       "      <td>72</td>\n",
       "      <td>1</td>\n",
       "      <td>2</td>\n",
       "      <td>2</td>\n",
       "    </tr>\n",
       "    <tr>\n",
       "      <th>4</th>\n",
       "      <td>16</td>\n",
       "      <td>1</td>\n",
       "      <td>1</td>\n",
       "      <td>1</td>\n",
       "    </tr>\n",
       "  </tbody>\n",
       "</table>\n",
       "</div>"
      ],
      "text/plain": [
       "   Age Gender Education Review\n",
       "0   30      1         0      1\n",
       "1   68      1         1      0\n",
       "2   70      1         2      2\n",
       "3   72      1         2      2\n",
       "4   16      1         1      1"
      ]
     },
     "execution_count": 90,
     "metadata": {},
     "output_type": "execute_result"
    }
   ],
   "source": [
    "X.head()"
   ]
  },
  {
   "cell_type": "markdown",
   "id": "2f5b6c6a-d4a8-406a-b5c5-680c87444403",
   "metadata": {},
   "source": [
    "### **3. Train-Test Split:**\n",
    "   - **Splitting the Dataset:** Divided the dataset into training (80%) and testing (20%) sets using train_test_split.\n",
    "   - **Checking Shapes:** Verified the shape of the training and testing sets."
   ]
  },
  {
   "cell_type": "code",
   "execution_count": 91,
   "id": "24a0a178-185b-4aa2-a21b-0d69e73ee1bb",
   "metadata": {},
   "outputs": [],
   "source": [
    "# train test split\n",
    "from sklearn.model_selection import train_test_split\n",
    "X_train, X_test, y_train, y_test = train_test_split(X,y, train_size=0.8, random_state=2529)"
   ]
  },
  {
   "cell_type": "code",
   "execution_count": 92,
   "id": "b437096a-c362-49b9-ad4b-a5ac7b829fe1",
   "metadata": {},
   "outputs": [
    {
     "data": {
      "text/plain": [
       "((40, 4), (10, 4), (40,), (10,))"
      ]
     },
     "execution_count": 92,
     "metadata": {},
     "output_type": "execute_result"
    }
   ],
   "source": [
    "# check shape of train and test sample\n",
    "X_train.shape, X_test.shape, y_train.shape, y_test.shape"
   ]
  },
  {
   "cell_type": "markdown",
   "id": "08296034-2b53-4a6c-9810-9b51b303ab58",
   "metadata": {},
   "source": [
    "### **4. Model Selection and Training:**\n",
    "   - **Select Model:** Chose a Random Forest Classifier as the predictive model.\n",
    "   - **Train Model:** Fitted the model using the training set."
   ]
  },
  {
   "cell_type": "code",
   "execution_count": 93,
   "id": "a88ca23a-ce5f-4983-baba-9b2b60dcd40e",
   "metadata": {},
   "outputs": [],
   "source": [
    "# Model RandomForestClassifier\n",
    "from sklearn.ensemble import RandomForestClassifier\n",
    "model = RandomForestClassifier()"
   ]
  },
  {
   "cell_type": "code",
   "execution_count": 94,
   "id": "ba8425cc-602f-4981-b083-96982b4cdf59",
   "metadata": {},
   "outputs": [
    {
     "data": {
      "text/html": [
       "<style>#sk-container-id-3 {\n",
       "  /* Definition of color scheme common for light and dark mode */\n",
       "  --sklearn-color-text: black;\n",
       "  --sklearn-color-line: gray;\n",
       "  /* Definition of color scheme for unfitted estimators */\n",
       "  --sklearn-color-unfitted-level-0: #fff5e6;\n",
       "  --sklearn-color-unfitted-level-1: #f6e4d2;\n",
       "  --sklearn-color-unfitted-level-2: #ffe0b3;\n",
       "  --sklearn-color-unfitted-level-3: chocolate;\n",
       "  /* Definition of color scheme for fitted estimators */\n",
       "  --sklearn-color-fitted-level-0: #f0f8ff;\n",
       "  --sklearn-color-fitted-level-1: #d4ebff;\n",
       "  --sklearn-color-fitted-level-2: #b3dbfd;\n",
       "  --sklearn-color-fitted-level-3: cornflowerblue;\n",
       "\n",
       "  /* Specific color for light theme */\n",
       "  --sklearn-color-text-on-default-background: var(--sg-text-color, var(--theme-code-foreground, var(--jp-content-font-color1, black)));\n",
       "  --sklearn-color-background: var(--sg-background-color, var(--theme-background, var(--jp-layout-color0, white)));\n",
       "  --sklearn-color-border-box: var(--sg-text-color, var(--theme-code-foreground, var(--jp-content-font-color1, black)));\n",
       "  --sklearn-color-icon: #696969;\n",
       "\n",
       "  @media (prefers-color-scheme: dark) {\n",
       "    /* Redefinition of color scheme for dark theme */\n",
       "    --sklearn-color-text-on-default-background: var(--sg-text-color, var(--theme-code-foreground, var(--jp-content-font-color1, white)));\n",
       "    --sklearn-color-background: var(--sg-background-color, var(--theme-background, var(--jp-layout-color0, #111)));\n",
       "    --sklearn-color-border-box: var(--sg-text-color, var(--theme-code-foreground, var(--jp-content-font-color1, white)));\n",
       "    --sklearn-color-icon: #878787;\n",
       "  }\n",
       "}\n",
       "\n",
       "#sk-container-id-3 {\n",
       "  color: var(--sklearn-color-text);\n",
       "}\n",
       "\n",
       "#sk-container-id-3 pre {\n",
       "  padding: 0;\n",
       "}\n",
       "\n",
       "#sk-container-id-3 input.sk-hidden--visually {\n",
       "  border: 0;\n",
       "  clip: rect(1px 1px 1px 1px);\n",
       "  clip: rect(1px, 1px, 1px, 1px);\n",
       "  height: 1px;\n",
       "  margin: -1px;\n",
       "  overflow: hidden;\n",
       "  padding: 0;\n",
       "  position: absolute;\n",
       "  width: 1px;\n",
       "}\n",
       "\n",
       "#sk-container-id-3 div.sk-dashed-wrapped {\n",
       "  border: 1px dashed var(--sklearn-color-line);\n",
       "  margin: 0 0.4em 0.5em 0.4em;\n",
       "  box-sizing: border-box;\n",
       "  padding-bottom: 0.4em;\n",
       "  background-color: var(--sklearn-color-background);\n",
       "}\n",
       "\n",
       "#sk-container-id-3 div.sk-container {\n",
       "  /* jupyter's `normalize.less` sets `[hidden] { display: none; }`\n",
       "     but bootstrap.min.css set `[hidden] { display: none !important; }`\n",
       "     so we also need the `!important` here to be able to override the\n",
       "     default hidden behavior on the sphinx rendered scikit-learn.org.\n",
       "     See: https://github.com/scikit-learn/scikit-learn/issues/21755 */\n",
       "  display: inline-block !important;\n",
       "  position: relative;\n",
       "}\n",
       "\n",
       "#sk-container-id-3 div.sk-text-repr-fallback {\n",
       "  display: none;\n",
       "}\n",
       "\n",
       "div.sk-parallel-item,\n",
       "div.sk-serial,\n",
       "div.sk-item {\n",
       "  /* draw centered vertical line to link estimators */\n",
       "  background-image: linear-gradient(var(--sklearn-color-text-on-default-background), var(--sklearn-color-text-on-default-background));\n",
       "  background-size: 2px 100%;\n",
       "  background-repeat: no-repeat;\n",
       "  background-position: center center;\n",
       "}\n",
       "\n",
       "/* Parallel-specific style estimator block */\n",
       "\n",
       "#sk-container-id-3 div.sk-parallel-item::after {\n",
       "  content: \"\";\n",
       "  width: 100%;\n",
       "  border-bottom: 2px solid var(--sklearn-color-text-on-default-background);\n",
       "  flex-grow: 1;\n",
       "}\n",
       "\n",
       "#sk-container-id-3 div.sk-parallel {\n",
       "  display: flex;\n",
       "  align-items: stretch;\n",
       "  justify-content: center;\n",
       "  background-color: var(--sklearn-color-background);\n",
       "  position: relative;\n",
       "}\n",
       "\n",
       "#sk-container-id-3 div.sk-parallel-item {\n",
       "  display: flex;\n",
       "  flex-direction: column;\n",
       "}\n",
       "\n",
       "#sk-container-id-3 div.sk-parallel-item:first-child::after {\n",
       "  align-self: flex-end;\n",
       "  width: 50%;\n",
       "}\n",
       "\n",
       "#sk-container-id-3 div.sk-parallel-item:last-child::after {\n",
       "  align-self: flex-start;\n",
       "  width: 50%;\n",
       "}\n",
       "\n",
       "#sk-container-id-3 div.sk-parallel-item:only-child::after {\n",
       "  width: 0;\n",
       "}\n",
       "\n",
       "/* Serial-specific style estimator block */\n",
       "\n",
       "#sk-container-id-3 div.sk-serial {\n",
       "  display: flex;\n",
       "  flex-direction: column;\n",
       "  align-items: center;\n",
       "  background-color: var(--sklearn-color-background);\n",
       "  padding-right: 1em;\n",
       "  padding-left: 1em;\n",
       "}\n",
       "\n",
       "\n",
       "/* Toggleable style: style used for estimator/Pipeline/ColumnTransformer box that is\n",
       "clickable and can be expanded/collapsed.\n",
       "- Pipeline and ColumnTransformer use this feature and define the default style\n",
       "- Estimators will overwrite some part of the style using the `sk-estimator` class\n",
       "*/\n",
       "\n",
       "/* Pipeline and ColumnTransformer style (default) */\n",
       "\n",
       "#sk-container-id-3 div.sk-toggleable {\n",
       "  /* Default theme specific background. It is overwritten whether we have a\n",
       "  specific estimator or a Pipeline/ColumnTransformer */\n",
       "  background-color: var(--sklearn-color-background);\n",
       "}\n",
       "\n",
       "/* Toggleable label */\n",
       "#sk-container-id-3 label.sk-toggleable__label {\n",
       "  cursor: pointer;\n",
       "  display: block;\n",
       "  width: 100%;\n",
       "  margin-bottom: 0;\n",
       "  padding: 0.5em;\n",
       "  box-sizing: border-box;\n",
       "  text-align: center;\n",
       "}\n",
       "\n",
       "#sk-container-id-3 label.sk-toggleable__label-arrow:before {\n",
       "  /* Arrow on the left of the label */\n",
       "  content: \"▸\";\n",
       "  float: left;\n",
       "  margin-right: 0.25em;\n",
       "  color: var(--sklearn-color-icon);\n",
       "}\n",
       "\n",
       "#sk-container-id-3 label.sk-toggleable__label-arrow:hover:before {\n",
       "  color: var(--sklearn-color-text);\n",
       "}\n",
       "\n",
       "/* Toggleable content - dropdown */\n",
       "\n",
       "#sk-container-id-3 div.sk-toggleable__content {\n",
       "  max-height: 0;\n",
       "  max-width: 0;\n",
       "  overflow: hidden;\n",
       "  text-align: left;\n",
       "  /* unfitted */\n",
       "  background-color: var(--sklearn-color-unfitted-level-0);\n",
       "}\n",
       "\n",
       "#sk-container-id-3 div.sk-toggleable__content.fitted {\n",
       "  /* fitted */\n",
       "  background-color: var(--sklearn-color-fitted-level-0);\n",
       "}\n",
       "\n",
       "#sk-container-id-3 div.sk-toggleable__content pre {\n",
       "  margin: 0.2em;\n",
       "  border-radius: 0.25em;\n",
       "  color: var(--sklearn-color-text);\n",
       "  /* unfitted */\n",
       "  background-color: var(--sklearn-color-unfitted-level-0);\n",
       "}\n",
       "\n",
       "#sk-container-id-3 div.sk-toggleable__content.fitted pre {\n",
       "  /* unfitted */\n",
       "  background-color: var(--sklearn-color-fitted-level-0);\n",
       "}\n",
       "\n",
       "#sk-container-id-3 input.sk-toggleable__control:checked~div.sk-toggleable__content {\n",
       "  /* Expand drop-down */\n",
       "  max-height: 200px;\n",
       "  max-width: 100%;\n",
       "  overflow: auto;\n",
       "}\n",
       "\n",
       "#sk-container-id-3 input.sk-toggleable__control:checked~label.sk-toggleable__label-arrow:before {\n",
       "  content: \"▾\";\n",
       "}\n",
       "\n",
       "/* Pipeline/ColumnTransformer-specific style */\n",
       "\n",
       "#sk-container-id-3 div.sk-label input.sk-toggleable__control:checked~label.sk-toggleable__label {\n",
       "  color: var(--sklearn-color-text);\n",
       "  background-color: var(--sklearn-color-unfitted-level-2);\n",
       "}\n",
       "\n",
       "#sk-container-id-3 div.sk-label.fitted input.sk-toggleable__control:checked~label.sk-toggleable__label {\n",
       "  background-color: var(--sklearn-color-fitted-level-2);\n",
       "}\n",
       "\n",
       "/* Estimator-specific style */\n",
       "\n",
       "/* Colorize estimator box */\n",
       "#sk-container-id-3 div.sk-estimator input.sk-toggleable__control:checked~label.sk-toggleable__label {\n",
       "  /* unfitted */\n",
       "  background-color: var(--sklearn-color-unfitted-level-2);\n",
       "}\n",
       "\n",
       "#sk-container-id-3 div.sk-estimator.fitted input.sk-toggleable__control:checked~label.sk-toggleable__label {\n",
       "  /* fitted */\n",
       "  background-color: var(--sklearn-color-fitted-level-2);\n",
       "}\n",
       "\n",
       "#sk-container-id-3 div.sk-label label.sk-toggleable__label,\n",
       "#sk-container-id-3 div.sk-label label {\n",
       "  /* The background is the default theme color */\n",
       "  color: var(--sklearn-color-text-on-default-background);\n",
       "}\n",
       "\n",
       "/* On hover, darken the color of the background */\n",
       "#sk-container-id-3 div.sk-label:hover label.sk-toggleable__label {\n",
       "  color: var(--sklearn-color-text);\n",
       "  background-color: var(--sklearn-color-unfitted-level-2);\n",
       "}\n",
       "\n",
       "/* Label box, darken color on hover, fitted */\n",
       "#sk-container-id-3 div.sk-label.fitted:hover label.sk-toggleable__label.fitted {\n",
       "  color: var(--sklearn-color-text);\n",
       "  background-color: var(--sklearn-color-fitted-level-2);\n",
       "}\n",
       "\n",
       "/* Estimator label */\n",
       "\n",
       "#sk-container-id-3 div.sk-label label {\n",
       "  font-family: monospace;\n",
       "  font-weight: bold;\n",
       "  display: inline-block;\n",
       "  line-height: 1.2em;\n",
       "}\n",
       "\n",
       "#sk-container-id-3 div.sk-label-container {\n",
       "  text-align: center;\n",
       "}\n",
       "\n",
       "/* Estimator-specific */\n",
       "#sk-container-id-3 div.sk-estimator {\n",
       "  font-family: monospace;\n",
       "  border: 1px dotted var(--sklearn-color-border-box);\n",
       "  border-radius: 0.25em;\n",
       "  box-sizing: border-box;\n",
       "  margin-bottom: 0.5em;\n",
       "  /* unfitted */\n",
       "  background-color: var(--sklearn-color-unfitted-level-0);\n",
       "}\n",
       "\n",
       "#sk-container-id-3 div.sk-estimator.fitted {\n",
       "  /* fitted */\n",
       "  background-color: var(--sklearn-color-fitted-level-0);\n",
       "}\n",
       "\n",
       "/* on hover */\n",
       "#sk-container-id-3 div.sk-estimator:hover {\n",
       "  /* unfitted */\n",
       "  background-color: var(--sklearn-color-unfitted-level-2);\n",
       "}\n",
       "\n",
       "#sk-container-id-3 div.sk-estimator.fitted:hover {\n",
       "  /* fitted */\n",
       "  background-color: var(--sklearn-color-fitted-level-2);\n",
       "}\n",
       "\n",
       "/* Specification for estimator info (e.g. \"i\" and \"?\") */\n",
       "\n",
       "/* Common style for \"i\" and \"?\" */\n",
       "\n",
       ".sk-estimator-doc-link,\n",
       "a:link.sk-estimator-doc-link,\n",
       "a:visited.sk-estimator-doc-link {\n",
       "  float: right;\n",
       "  font-size: smaller;\n",
       "  line-height: 1em;\n",
       "  font-family: monospace;\n",
       "  background-color: var(--sklearn-color-background);\n",
       "  border-radius: 1em;\n",
       "  height: 1em;\n",
       "  width: 1em;\n",
       "  text-decoration: none !important;\n",
       "  margin-left: 1ex;\n",
       "  /* unfitted */\n",
       "  border: var(--sklearn-color-unfitted-level-1) 1pt solid;\n",
       "  color: var(--sklearn-color-unfitted-level-1);\n",
       "}\n",
       "\n",
       ".sk-estimator-doc-link.fitted,\n",
       "a:link.sk-estimator-doc-link.fitted,\n",
       "a:visited.sk-estimator-doc-link.fitted {\n",
       "  /* fitted */\n",
       "  border: var(--sklearn-color-fitted-level-1) 1pt solid;\n",
       "  color: var(--sklearn-color-fitted-level-1);\n",
       "}\n",
       "\n",
       "/* On hover */\n",
       "div.sk-estimator:hover .sk-estimator-doc-link:hover,\n",
       ".sk-estimator-doc-link:hover,\n",
       "div.sk-label-container:hover .sk-estimator-doc-link:hover,\n",
       ".sk-estimator-doc-link:hover {\n",
       "  /* unfitted */\n",
       "  background-color: var(--sklearn-color-unfitted-level-3);\n",
       "  color: var(--sklearn-color-background);\n",
       "  text-decoration: none;\n",
       "}\n",
       "\n",
       "div.sk-estimator.fitted:hover .sk-estimator-doc-link.fitted:hover,\n",
       ".sk-estimator-doc-link.fitted:hover,\n",
       "div.sk-label-container:hover .sk-estimator-doc-link.fitted:hover,\n",
       ".sk-estimator-doc-link.fitted:hover {\n",
       "  /* fitted */\n",
       "  background-color: var(--sklearn-color-fitted-level-3);\n",
       "  color: var(--sklearn-color-background);\n",
       "  text-decoration: none;\n",
       "}\n",
       "\n",
       "/* Span, style for the box shown on hovering the info icon */\n",
       ".sk-estimator-doc-link span {\n",
       "  display: none;\n",
       "  z-index: 9999;\n",
       "  position: relative;\n",
       "  font-weight: normal;\n",
       "  right: .2ex;\n",
       "  padding: .5ex;\n",
       "  margin: .5ex;\n",
       "  width: min-content;\n",
       "  min-width: 20ex;\n",
       "  max-width: 50ex;\n",
       "  color: var(--sklearn-color-text);\n",
       "  box-shadow: 2pt 2pt 4pt #999;\n",
       "  /* unfitted */\n",
       "  background: var(--sklearn-color-unfitted-level-0);\n",
       "  border: .5pt solid var(--sklearn-color-unfitted-level-3);\n",
       "}\n",
       "\n",
       ".sk-estimator-doc-link.fitted span {\n",
       "  /* fitted */\n",
       "  background: var(--sklearn-color-fitted-level-0);\n",
       "  border: var(--sklearn-color-fitted-level-3);\n",
       "}\n",
       "\n",
       ".sk-estimator-doc-link:hover span {\n",
       "  display: block;\n",
       "}\n",
       "\n",
       "/* \"?\"-specific style due to the `<a>` HTML tag */\n",
       "\n",
       "#sk-container-id-3 a.estimator_doc_link {\n",
       "  float: right;\n",
       "  font-size: 1rem;\n",
       "  line-height: 1em;\n",
       "  font-family: monospace;\n",
       "  background-color: var(--sklearn-color-background);\n",
       "  border-radius: 1rem;\n",
       "  height: 1rem;\n",
       "  width: 1rem;\n",
       "  text-decoration: none;\n",
       "  /* unfitted */\n",
       "  color: var(--sklearn-color-unfitted-level-1);\n",
       "  border: var(--sklearn-color-unfitted-level-1) 1pt solid;\n",
       "}\n",
       "\n",
       "#sk-container-id-3 a.estimator_doc_link.fitted {\n",
       "  /* fitted */\n",
       "  border: var(--sklearn-color-fitted-level-1) 1pt solid;\n",
       "  color: var(--sklearn-color-fitted-level-1);\n",
       "}\n",
       "\n",
       "/* On hover */\n",
       "#sk-container-id-3 a.estimator_doc_link:hover {\n",
       "  /* unfitted */\n",
       "  background-color: var(--sklearn-color-unfitted-level-3);\n",
       "  color: var(--sklearn-color-background);\n",
       "  text-decoration: none;\n",
       "}\n",
       "\n",
       "#sk-container-id-3 a.estimator_doc_link.fitted:hover {\n",
       "  /* fitted */\n",
       "  background-color: var(--sklearn-color-fitted-level-3);\n",
       "}\n",
       "</style><div id=\"sk-container-id-3\" class=\"sk-top-container\"><div class=\"sk-text-repr-fallback\"><pre>RandomForestClassifier()</pre><b>In a Jupyter environment, please rerun this cell to show the HTML representation or trust the notebook. <br />On GitHub, the HTML representation is unable to render, please try loading this page with nbviewer.org.</b></div><div class=\"sk-container\" hidden><div class=\"sk-item\"><div class=\"sk-estimator fitted sk-toggleable\"><input class=\"sk-toggleable__control sk-hidden--visually\" id=\"sk-estimator-id-3\" type=\"checkbox\" checked><label for=\"sk-estimator-id-3\" class=\"sk-toggleable__label fitted sk-toggleable__label-arrow fitted\">&nbsp;&nbsp;RandomForestClassifier<a class=\"sk-estimator-doc-link fitted\" rel=\"noreferrer\" target=\"_blank\" href=\"https://scikit-learn.org/1.5/modules/generated/sklearn.ensemble.RandomForestClassifier.html\">?<span>Documentation for RandomForestClassifier</span></a><span class=\"sk-estimator-doc-link fitted\">i<span>Fitted</span></span></label><div class=\"sk-toggleable__content fitted\"><pre>RandomForestClassifier()</pre></div> </div></div></div></div>"
      ],
      "text/plain": [
       "RandomForestClassifier()"
      ]
     },
     "execution_count": 94,
     "metadata": {},
     "output_type": "execute_result"
    }
   ],
   "source": [
    "#train or fit model\n",
    "model.fit(X_train,y_train)"
   ]
  },
  {
   "cell_type": "markdown",
   "id": "c4c76516-0c27-42f2-8cf9-de088049ef11",
   "metadata": {},
   "source": [
    "### **5. Model Evaluation:**\n",
    "   - **Predict Model:** Used the trained model to make predictions on the test set.\n",
    "   - **Model Accuracy:** Evaluated the model accuracy using confusion matrix, accuracy score, and classification report."
   ]
  },
  {
   "cell_type": "code",
   "execution_count": 95,
   "id": "e32cd30c-d76d-4b77-9011-40a6f846595b",
   "metadata": {},
   "outputs": [],
   "source": [
    "# predict model\n",
    "y_pred = model.predict(X_test)"
   ]
  },
  {
   "cell_type": "code",
   "execution_count": 96,
   "id": "2e41bc18-8243-4f0d-a945-f211bb40dd39",
   "metadata": {},
   "outputs": [
    {
     "data": {
      "text/plain": [
       "array(['No', 'Yes', 'No', 'No', 'Yes', 'Yes', 'Yes', 'No', 'No', 'Yes'],\n",
       "      dtype=object)"
      ]
     },
     "execution_count": 96,
     "metadata": {},
     "output_type": "execute_result"
    }
   ],
   "source": [
    "y_pred"
   ]
  },
  {
   "cell_type": "code",
   "execution_count": 97,
   "id": "971971fe-45f9-4fcd-a838-e583d9d28633",
   "metadata": {},
   "outputs": [],
   "source": [
    "#  model accuracy\n",
    "from sklearn.metrics import confusion_matrix, accuracy_score, classification_report"
   ]
  },
  {
   "cell_type": "code",
   "execution_count": 98,
   "id": "4bd5e3fc-b8e9-48f2-b3be-4481165ebf42",
   "metadata": {},
   "outputs": [
    {
     "data": {
      "text/plain": [
       "array([[2, 1],\n",
       "       [3, 4]], dtype=int64)"
      ]
     },
     "execution_count": 98,
     "metadata": {},
     "output_type": "execute_result"
    }
   ],
   "source": [
    "confusion_matrix(y_test,y_pred)"
   ]
  },
  {
   "cell_type": "code",
   "execution_count": 100,
   "id": "ab8da3b4-ea41-4950-9454-6a506f6aa3e3",
   "metadata": {},
   "outputs": [
    {
     "data": {
      "text/plain": [
       "0.6"
      ]
     },
     "execution_count": 100,
     "metadata": {},
     "output_type": "execute_result"
    }
   ],
   "source": [
    "accuracy_score(y_test,y_pred)"
   ]
  },
  {
   "cell_type": "code",
   "execution_count": 101,
   "id": "43908887-0dd5-486e-93b2-00e4de0cece8",
   "metadata": {},
   "outputs": [
    {
     "name": "stdout",
     "output_type": "stream",
     "text": [
      "              precision    recall  f1-score   support\n",
      "\n",
      "          No       0.40      0.67      0.50         3\n",
      "         Yes       0.80      0.57      0.67         7\n",
      "\n",
      "    accuracy                           0.60        10\n",
      "   macro avg       0.60      0.62      0.58        10\n",
      "weighted avg       0.68      0.60      0.62        10\n",
      "\n"
     ]
    }
   ],
   "source": [
    "print(classification_report(y_test,y_pred))"
   ]
  },
  {
   "cell_type": "markdown",
   "id": "f20790f6-0f6d-4c4e-860f-5ba158822c29",
   "metadata": {},
   "source": [
    "he classification report summarizes the model's performance:\n",
    "\n",
    "- **Precision:**\n",
    "  - For 'No': 40% correct predictions.\n",
    "  - For 'Yes': 80% correct predictions.\n",
    "\n",
    "- **Recall:**\n",
    "  - For 'No': 67% of actual 'No' instances captured.\n",
    "  - For 'Yes': 57% of actual 'Yes' instances captured.\n",
    "\n",
    "- **F1-Score:**\n",
    "  - Balances precision and recall.\n",
    "  - 'No': 50%, 'Yes': 67%.\n",
    "\n",
    "- **Accuracy:**\n",
    "  - Overall correct predictions: 60%.\n",
    "\n",
    "- **Macro Avg and Weighted Avg:**\n",
    "  - Macro avg treats each class equally.\n",
    "  - Weighted avg considers class imbalance.\n",
    "\n",
    "In summary, the model performs better in predicting 'Yes,' but a balanced evaluation considers precision, recall, and F1-score, especially in imbalanced datasets."
   ]
  },
  {
   "cell_type": "markdown",
   "id": "a87a0cec-0f76-4658-b985-16f67c5492e3",
   "metadata": {},
   "source": [
    "\n",
    "### **6. Feature Importance Visualization:**\n",
    "- **Visualize Feature Importance:** Create a bar chart to visualize the importance of each feature in predicting customer purchases.\n",
    "- **Identify Key Factors:** Analyze the chart to identify key factors influencing purchase predictions.\n"
   ]
  },
  {
   "cell_type": "code",
   "execution_count": 102,
   "id": "5fa552ca-1ec6-48b5-b204-a3624bd60d7e",
   "metadata": {},
   "outputs": [],
   "source": [
    "# Block for visualizing feature importance\n",
    "feature_importance = model.feature_importances_\n",
    "features = X.columns\n",
    "\n",
    "# Sort features by importance\n",
    "features_importance_df = pd.DataFrame({'Feature': features, 'Importance': feature_importance})\n",
    "features_importance_df = features_importance_df.sort_values(by='Importance', ascending=False)"
   ]
  },
  {
   "cell_type": "code",
   "execution_count": 103,
   "id": "0488635a-9e75-4a95-87e4-b13e966a28ee",
   "metadata": {},
   "outputs": [
    {
     "data": {
      "image/png": "[encoded data removed]",
      "text/plain": [
       "<Figure size 640x480 with 1 Axes>"
      ]
     },
     "metadata": {},
     "output_type": "display_data"
    }
   ],
   "source": [
    "# Assuming 'features_importance_df' is already created as per your code\n",
    "colors = sns.color_palette('Set1', len(features_importance_df))\n",
    "\n",
    "plt.bar(features_importance_df['Feature'], features_importance_df['Importance'], color=colors)\n",
    "plt.xlabel('Features')\n",
    "plt.ylabel('Importance')\n",
    "plt.xticks(rotation=90)  # Optional, if you want to rotate feature names for better visibility\n",
    "plt.show()"
   ]
  },
  {
   "cell_type": "raw",
   "id": "77dc2962-8342-4ad3-b778-7a95125d3870",
   "metadata": {},
   "source": [
    "To gain insights into the model's decision-making process, we visualized the importance of each feature using a bar chart. This chart indicates which features play a more significant role in predicting customer purchases."
   ]
  },
  {
   "cell_type": "markdown",
   "id": "80ca9b05-192a-4f83-850a-9bb7dcf45c61",
   "metadata": {},
   "source": [
    "### **7. Confusion Matrix Heatmap:**\n",
    "- **Plot Heatmap:** Generate a heatmap to illustrate the model's performance through a confusion matrix.\n",
    "- **Analyze Performance:** Examine true positives, true negatives, false positives, and false negatives on the heatmap."
   ]
  },
  {
   "cell_type": "code",
   "execution_count": 104,
   "id": "2907ed5d-47f6-4042-9a35-48c92ba9d98e",
   "metadata": {},
   "outputs": [
    {
     "data": {
      "image/png": "[encoded data removed]",
      "text/plain": [
       "<Figure size 640x480 with 2 Axes>"
      ]
     },
     "metadata": {},
     "output_type": "display_data"
    }
   ],
   "source": [
    "# Confusion matrix heatmap\n",
    "cm = confusion_matrix(y_test, y_pred)\n",
    "sns.heatmap(cm, annot=True, fmt='d', cmap='Blues', xticklabels=['No', 'Yes'], yticklabels=['No', 'Yes'])\n",
    "plt.xlabel('Predicted')\n",
    "plt.ylabel('Actual')\n",
    "plt.title('Confusion Matrix')\n",
    "plt.show()"
   ]
  },
  {
   "cell_type": "raw",
   "id": "f77784de-5b5b-4398-a9d3-b1abb549e967",
   "metadata": {},
   "source": [
    "The confusion matrix heatmap visually represents the model's performance by comparing predicted and actual values. It shows how many predictions fall into each category (True Positive, True Negative, False Positive, False Negative)."
   ]
  },
  {
   "cell_type": "markdown",
   "id": "a2e26d51-cd7f-462b-ad54-052f39fb137b",
   "metadata": {},
   "source": [
    "### **8. ROC Curve and AUC:**\n",
    "- **Calculate ROC Curve and AUC:** Determine and visualize the ROC curve and AUC to assess model discrimination.\n",
    "- **Evaluate Trade-off:** Analyze the trade-off between true positive rate and false positive rate."
   ]
  },
  {
   "cell_type": "code",
   "execution_count": 105,
   "id": "17b0048a-d482-4c9d-9ab1-d23c9c91616c",
   "metadata": {},
   "outputs": [],
   "source": [
    "from sklearn.preprocessing import LabelEncoder\n",
    "from sklearn.metrics import roc_curve, auc"
   ]
  },
  {
   "cell_type": "code",
   "execution_count": 106,
   "id": "50decbdd-936e-45a4-a898-702d944dbe6e",
   "metadata": {},
   "outputs": [],
   "source": [
    "# Convert labels to binary (0 and 1)\n",
    "le = LabelEncoder()\n",
    "y_test_binary = le.fit_transform(y_test)\n",
    "\n",
    "# Get predicted probabilities\n",
    "y_prob = model.predict_proba(X_test)[:, 1]\n",
    "\n",
    "# Calculate ROC curve and AUC\n",
    "fpr, tpr, thresholds = roc_curve(y_test_binary, y_prob)\n",
    "roc_auc = auc(fpr, tpr)\n"
   ]
  },
  {
   "cell_type": "code",
   "execution_count": 107,
   "id": "4c585864-b4f1-4c1e-9c13-7b2657cb3b3a",
   "metadata": {},
   "outputs": [
    {
     "data": {
      "image/png": "[encoded data removed]",
      "text/plain": [
       "<Figure size 640x480 with 1 Axes>"
      ]
     },
     "metadata": {},
     "output_type": "display_data"
    }
   ],
   "source": [
    "# Plot ROC curve\n",
    "plt.figure()\n",
    "plt.plot(fpr, tpr, color='darkorange', lw=2, label=f'AUC = {roc_auc:.2f}')\n",
    "plt.plot([0, 1], [0, 1], color='navy', lw=2, linestyle='--')\n",
    "plt.xlabel('False Positive Rate')\n",
    "plt.ylabel('True Positive Rate')\n",
    "plt.title('ROC Curve')\n",
    "plt.legend(loc='lower right')\n",
    "plt.show()"
   ]
  },
  {
   "cell_type": "raw",
   "id": "9163cd01-bfeb-4b9e-98d1-5933a9f600e4",
   "metadata": {},
   "source": [
    "The ROC curve and Area Under the Curve (AUC) provide a comprehensive view of the model's ability to distinguish between positive and negative classes. The AUC quantifies the model's discriminative power, and the ROC curve illustrates its performance across various thresholds."
   ]
  },
  {
   "cell_type": "markdown",
   "id": "c55fd754-2533-439c-8500-bd441cf39bc1",
   "metadata": {},
   "source": [
    "### **9. Distribution of Predicted Probabilities:**\n",
    "- **Examine Predicted Probabilities:** Explore the distribution of predicted probabilities for positive class predictions ('Yes').\n",
    "- **Analyze Model Confidence:** Gain insights into the model's confidence levels in predicting customer purchases."
   ]
  },
  {
   "cell_type": "code",
   "execution_count": 111,
   "id": "d8d2cd5a-a8c3-4320-b85f-2f220ba3c3f4",
   "metadata": {},
   "outputs": [
    {
     "data": {
      "image/png": "[encoded data removed]",
      "text/plain": [
       "<Figure size 1000x600 with 1 Axes>"
      ]
     },
     "metadata": {},
     "output_type": "display_data"
    }
   ],
   "source": [
    "# Distribution of predicted probabilities\n",
    "plt.figure(figsize=(10, 6))\n",
    "sns.histplot(model.predict_proba(X_test)[:, 1], kde=True, bins=20,color='Orange')\n",
    "plt.xlabel('Predicted Probability for Class Yes')\n",
    "plt.ylabel('Frequency')\n",
    "plt.title('Distribution of Predicted Probabilities')\n",
    "plt.show()"
   ]
  },
  {
   "cell_type": "raw",
   "id": "9689b9d9-eee0-41ca-8bd2-319f1b0e8588",
   "metadata": {},
   "source": [
    "This histogram displays the distribution of predicted probabilities for the positive class ('Yes'). It helps understand the confidence levels of the model in predicting customer purchases."
   ]
  },
  {
   "cell_type": "markdown",
   "id": "6a6b0cf5-c209-4c75-8121-3da9f835d1b9",
   "metadata": {},
   "source": [
    "### Conclusion: Unraveling Insights in Customer Purchase Prediction  & Micro-Numerosity Analysis\n",
    "- In this project, we successfully employed a Random Forest Classifier to predict customer purchases, unraveling insights into the intricacies of buyer behavior.\n",
    "- Through meticulous data exploration, preprocessing, and model training, the project achieved an accuracy of 60%.\n",
    "- Feature importance visualization illuminated key factors influencing purchase predictions.\n",
    "- Evaluation metrics, including precision, recall, and the ROC curve, provided a nuanced understanding of the model's strengths and areas for improvement.\n",
    "- The project concludes as a stepping stone, inviting future refinements and a continued exploration of features to enhance predictive capabilities in the dynamic landscape of customer decision-making."
   ]
  }
 ],
 "metadata": {
  "kernelspec": {
   "display_name": "Python 3 (ipykernel)",
   "language": "python",
   "name": "python3"
  },
  "language_info": {
   "codemirror_mode": {
    "name": "ipython",
    "version": 3
   },
   "file_extension": ".py",
   "mimetype": "text/x-python",
   "name": "python",
   "nbconvert_exporter": "python",
   "pygments_lexer": "ipython3",
   "version": "3.12.7"
  }
 },
 "nbformat": 4,
 "nbformat_minor": 5
}
